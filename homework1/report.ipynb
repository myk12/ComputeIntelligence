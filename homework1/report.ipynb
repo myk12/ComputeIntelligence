{
 "cells": [
  {
   "attachments": {},
   "cell_type": "markdown",
   "metadata": {},
   "source": [
    "# 计算智能作业1-报告\n",
    "\n",
    "**运行环境：**\n",
    "+ python3\n",
    "+ pandas\n",
    "+ numpy\n",
    "+ collections"
   ]
  },
  {
   "attachments": {},
   "cell_type": "markdown",
   "metadata": {},
   "source": [
    "## 1. 数据\n",
    "文件iris中包含了iris数据，其中每行的前四个数据代表一个样本，最后一个数据表示该样本的类别。"
   ]
  },
  {
   "cell_type": "code",
   "execution_count": 25,
   "metadata": {},
   "outputs": [
    {
     "name": "stdout",
     "output_type": "stream",
     "text": [
      "数据预览 \n",
      "\n"
     ]
    },
    {
     "data": {
      "text/html": [
       "<div>\n",
       "<style scoped>\n",
       "    .dataframe tbody tr th:only-of-type {\n",
       "        vertical-align: middle;\n",
       "    }\n",
       "\n",
       "    .dataframe tbody tr th {\n",
       "        vertical-align: top;\n",
       "    }\n",
       "\n",
       "    .dataframe thead th {\n",
       "        text-align: right;\n",
       "    }\n",
       "</style>\n",
       "<table border=\"1\" class=\"dataframe\">\n",
       "  <thead>\n",
       "    <tr style=\"text-align: right;\">\n",
       "      <th></th>\n",
       "      <th>feat0</th>\n",
       "      <th>feat1</th>\n",
       "      <th>feat2</th>\n",
       "      <th>feat3</th>\n",
       "      <th>label</th>\n",
       "    </tr>\n",
       "  </thead>\n",
       "  <tbody>\n",
       "    <tr>\n",
       "      <th>0</th>\n",
       "      <td>5.1</td>\n",
       "      <td>3.5</td>\n",
       "      <td>1.4</td>\n",
       "      <td>0.2</td>\n",
       "      <td>0</td>\n",
       "    </tr>\n",
       "    <tr>\n",
       "      <th>1</th>\n",
       "      <td>4.9</td>\n",
       "      <td>3.0</td>\n",
       "      <td>1.4</td>\n",
       "      <td>0.2</td>\n",
       "      <td>0</td>\n",
       "    </tr>\n",
       "    <tr>\n",
       "      <th>2</th>\n",
       "      <td>4.7</td>\n",
       "      <td>3.2</td>\n",
       "      <td>1.3</td>\n",
       "      <td>0.2</td>\n",
       "      <td>0</td>\n",
       "    </tr>\n",
       "    <tr>\n",
       "      <th>3</th>\n",
       "      <td>4.6</td>\n",
       "      <td>3.1</td>\n",
       "      <td>1.5</td>\n",
       "      <td>0.2</td>\n",
       "      <td>0</td>\n",
       "    </tr>\n",
       "    <tr>\n",
       "      <th>4</th>\n",
       "      <td>5.0</td>\n",
       "      <td>3.6</td>\n",
       "      <td>1.4</td>\n",
       "      <td>0.2</td>\n",
       "      <td>0</td>\n",
       "    </tr>\n",
       "    <tr>\n",
       "      <th>...</th>\n",
       "      <td>...</td>\n",
       "      <td>...</td>\n",
       "      <td>...</td>\n",
       "      <td>...</td>\n",
       "      <td>...</td>\n",
       "    </tr>\n",
       "    <tr>\n",
       "      <th>145</th>\n",
       "      <td>6.7</td>\n",
       "      <td>3.0</td>\n",
       "      <td>5.2</td>\n",
       "      <td>2.3</td>\n",
       "      <td>2</td>\n",
       "    </tr>\n",
       "    <tr>\n",
       "      <th>146</th>\n",
       "      <td>6.3</td>\n",
       "      <td>2.5</td>\n",
       "      <td>5.0</td>\n",
       "      <td>1.9</td>\n",
       "      <td>2</td>\n",
       "    </tr>\n",
       "    <tr>\n",
       "      <th>147</th>\n",
       "      <td>6.5</td>\n",
       "      <td>3.0</td>\n",
       "      <td>5.2</td>\n",
       "      <td>2.0</td>\n",
       "      <td>2</td>\n",
       "    </tr>\n",
       "    <tr>\n",
       "      <th>148</th>\n",
       "      <td>6.2</td>\n",
       "      <td>3.4</td>\n",
       "      <td>5.4</td>\n",
       "      <td>2.3</td>\n",
       "      <td>2</td>\n",
       "    </tr>\n",
       "    <tr>\n",
       "      <th>149</th>\n",
       "      <td>5.9</td>\n",
       "      <td>3.0</td>\n",
       "      <td>5.1</td>\n",
       "      <td>1.8</td>\n",
       "      <td>2</td>\n",
       "    </tr>\n",
       "  </tbody>\n",
       "</table>\n",
       "<p>150 rows × 5 columns</p>\n",
       "</div>"
      ],
      "text/plain": [
       "     feat0  feat1  feat2  feat3  label\n",
       "0      5.1    3.5    1.4    0.2      0\n",
       "1      4.9    3.0    1.4    0.2      0\n",
       "2      4.7    3.2    1.3    0.2      0\n",
       "3      4.6    3.1    1.5    0.2      0\n",
       "4      5.0    3.6    1.4    0.2      0\n",
       "..     ...    ...    ...    ...    ...\n",
       "145    6.7    3.0    5.2    2.3      2\n",
       "146    6.3    2.5    5.0    1.9      2\n",
       "147    6.5    3.0    5.2    2.0      2\n",
       "148    6.2    3.4    5.4    2.3      2\n",
       "149    5.9    3.0    5.1    1.8      2\n",
       "\n",
       "[150 rows x 5 columns]"
      ]
     },
     "execution_count": 25,
     "metadata": {},
     "output_type": "execute_result"
    }
   ],
   "source": [
    "import pandas as pd\n",
    "dataset = pd.read_csv(\"./iris.dat\", delimiter='\\t', names=['feat0', 'feat1', 'feat2', 'feat3', 'label'])\n",
    "print(\"数据预览 \\n\")\n",
    "dataset"
   ]
  },
  {
   "attachments": {},
   "cell_type": "markdown",
   "metadata": {},
   "source": [
    "## 2. C_means聚类\n",
    "**要求**：用C_means的方法对iris数据做聚类，要求聚成3类。\n",
    "**给出下列数据**：\n",
    "+ 初始类中心点\n",
    "+ 迭代次数\n",
    "+ 聚类结果（每类包含的样本，类中心）\n",
    "+ 错误率\n"
   ]
  },
  {
   "attachments": {},
   "cell_type": "markdown",
   "metadata": {},
   "source": [
    "### 2.1 预处理\n",
    "1. 导入必要的库\n",
    "2. 预定义变量"
   ]
  },
  {
   "cell_type": "code",
   "execution_count": 26,
   "metadata": {},
   "outputs": [],
   "source": [
    "import numpy as np\n",
    "import random\n",
    "import collections\n",
    "\n",
    "# predefine  variables\n",
    "cluster_num = 3\n",
    "\n",
    "# load data \n",
    "dataset = np.loadtxt(\"./iris.dat\")\n",
    "samples = dataset[:, 0:4].astype(np.float64)\n",
    "labels  = dataset[:, 4].astype(np.int32)\n",
    "samples_num = samples.shape[0]"
   ]
  },
  {
   "attachments": {},
   "cell_type": "markdown",
   "metadata": {},
   "source": [
    "### 2.2 聚类过程"
   ]
  },
  {
   "attachments": {},
   "cell_type": "markdown",
   "metadata": {},
   "source": [
    "1） 初始化聚类中心"
   ]
  },
  {
   "cell_type": "code",
   "execution_count": 27,
   "metadata": {},
   "outputs": [
    {
     "name": "stdout",
     "output_type": "stream",
     "text": [
      "初始化类中心为：\n",
      "[6.  2.2 5.  1.5]\n",
      "[5.7 2.8 4.1 1.3]\n",
      "[6.7 3.3 5.7 2.1]\n"
     ]
    }
   ],
   "source": [
    "choice = np.random.choice(samples_num, cluster_num)\n",
    "centers = samples[choice]\n",
    "\n",
    "print(\"初始化类中心为：\")\n",
    "for center in centers:\n",
    "    print(str(center))"
   ]
  },
  {
   "attachments": {},
   "cell_type": "markdown",
   "metadata": {},
   "source": [
    "2） 迭代"
   ]
  },
  {
   "cell_type": "code",
   "execution_count": 28,
   "metadata": {},
   "outputs": [
    {
     "name": "stdout",
     "output_type": "stream",
     "text": [
      "iteartion : 0\n",
      "iteartion : 1\n",
      "iteartion : 2\n",
      "iteartion : 3\n",
      "iteartion : 4\n",
      "iteartion : 5\n",
      "迭代次数：6\n"
     ]
    }
   ],
   "source": [
    "c_label = np.zeros(labels.shape, dtype=np.int32)\n",
    "clusters = [set() for _ in range(cluster_num)]\n",
    "\n",
    "it = 0\n",
    "while it < 100:\n",
    "    print(\"iteartion : %d\" %it)\n",
    "    clusters_ = [set() for _ in range(cluster_num)]\n",
    "    \n",
    "    # start cluster 开始聚类\n",
    "    for i in range(samples_num):\n",
    "        sample = samples[i]\n",
    "        parallel = np.tile(sample, (cluster_num, 1))\n",
    "\n",
    "        # It's no need to calculate the sqrt\n",
    "        distances = np.sum(np.square(parallel - centers), axis=1)\n",
    "        minidx = distances.argmin()\n",
    "\n",
    "        # Put into box and update label\n",
    "        clusters_[minidx].add(i)\n",
    "        c_label[i] = minidx\n",
    "\n",
    "    # recalculate centers 更新类中心点\n",
    "    static = True\n",
    "    for i in range(cluster_num):\n",
    "        c, c_ = clusters[i], clusters_[i]\n",
    "        if c == c_:\n",
    "            continue\n",
    "        else:\n",
    "            static = False\n",
    "            # renew center\n",
    "            samples_c = samples[list(c_)]\n",
    "            centers[i] = np.average(samples_c, axis=0)\n",
    "    \n",
    "    clusters = clusters_\n",
    "    if static:\n",
    "        break\n",
    "    it += 1\n",
    "\n",
    "print(\"迭代次数：%d\" %(it+1))"
   ]
  },
  {
   "attachments": {},
   "cell_type": "markdown",
   "metadata": {},
   "source": [
    "### 2.3 聚类结果\n",
    "\n",
    "1) 聚类结果"
   ]
  },
  {
   "cell_type": "code",
   "execution_count": 29,
   "metadata": {},
   "outputs": [
    {
     "name": "stdout",
     "output_type": "stream",
     "text": [
      "--------------------------------------------------------\n",
      "类中心 ： [5.9016129  2.7483871  4.39354839 1.43387097]\n",
      "类中元素：\n",
      "{133, 138, 142, 146, 149, 50, 51, 53, 54, 55, 56, 57, 58, 59, 60, 61, 62, 63, 64, 65, 66, 67, 68, 69, 70, 71, 72, 73, 74, 75, 76, 78, 79, 80, 81, 82, 83, 84, 85, 86, 87, 88, 89, 90, 91, 92, 93, 94, 95, 96, 97, 98, 99, 101, 106, 113, 114, 119, 121, 123, 126, 127}\n",
      "类元素个数：62\n",
      "--------------------------------------------------------\n",
      "类中心 ： [5.006 3.428 1.462 0.246]\n",
      "类中元素：\n",
      "{0, 1, 2, 3, 4, 5, 6, 7, 8, 9, 10, 11, 12, 13, 14, 15, 16, 17, 18, 19, 20, 21, 22, 23, 24, 25, 26, 27, 28, 29, 30, 31, 32, 33, 34, 35, 36, 37, 38, 39, 40, 41, 42, 43, 44, 45, 46, 47, 48, 49}\n",
      "类元素个数：50\n",
      "--------------------------------------------------------\n",
      "类中心 ： [6.85       3.07368421 5.74210526 2.07105263]\n",
      "类中元素：\n",
      "{128, 129, 130, 131, 132, 134, 135, 136, 137, 139, 140, 141, 143, 144, 145, 147, 148, 52, 77, 100, 102, 103, 104, 105, 107, 108, 109, 110, 111, 112, 115, 116, 117, 118, 120, 122, 124, 125}\n",
      "类元素个数：38\n"
     ]
    }
   ],
   "source": [
    "for cluster, center in zip(clusters, centers):\n",
    "    print(\"--------------------------------------------------------\")\n",
    "    print(\"类中心 ： %s\" %str(center))\n",
    "    print(\"类中元素：\" )\n",
    "    print(cluster)\n",
    "    print(\"类元素个数：%d\" %len(cluster))"
   ]
  },
  {
   "attachments": {},
   "cell_type": "markdown",
   "metadata": {},
   "source": [
    "2) 错误率"
   ]
  },
  {
   "cell_type": "code",
   "execution_count": 30,
   "metadata": {},
   "outputs": [
    {
     "name": "stdout",
     "output_type": "stream",
     "text": [
      "聚类错误率： 0.106667\n"
     ]
    }
   ],
   "source": [
    "true_num = 0\n",
    "for cluster in clusters:\n",
    "    label_dict = {}\n",
    "    for it in cluster:\n",
    "        try:\n",
    "            label_dict[labels[it]] += 1\n",
    "        except KeyError:\n",
    "            label_dict[labels[it]] = 1\n",
    "    true_num += max(label_dict.values())\n",
    "\n",
    "print(\"聚类错误率： %f\" %(1 - true_num/len(labels)))"
   ]
  },
  {
   "attachments": {},
   "cell_type": "markdown",
   "metadata": {},
   "source": [
    "## 3. 谱聚类\n",
    "用谱聚类方法对iris数据作聚类\n",
    "\n",
    "**算法流程：**\n",
    "1. 构造相似性矩阵 W 和度矩阵 D\n",
    "2. 计算拉普拉斯矩阵 L\n",
    "3. 构建标准化之后的拉普拉斯矩阵 D^(-1/2)LD^(-1/2)\n",
    "4. 计算 D^(-1/2)LD^(-1/2)最小的k1个特征值所各自对应的特征向量f\n",
    "5. 将各自对应的特征向量f组成的矩阵按行标准化，最终组成 n*k1 维的特征矩阵F\n",
    "6. 对F中的每一行作为一个k1维的样本，共n个样本，用K-means方法聚类\n",
    "7. 得到簇划分 C( c1, c2, ... ck2)"
   ]
  },
  {
   "attachments": {},
   "cell_type": "markdown",
   "metadata": {},
   "source": [
    "### 3.1 计算邻接矩阵"
   ]
  },
  {
   "cell_type": "code",
   "execution_count": 31,
   "metadata": {},
   "outputs": [
    {
     "name": "stdout",
     "output_type": "stream",
     "text": [
      "邻接矩阵 W 为：\n"
     ]
    },
    {
     "data": {
      "text/plain": [
       "array([[0.00000000e+00, 8.65022293e-01, 8.78095431e-01, ...,\n",
       "        4.79668697e-05, 2.00957944e-05, 1.89712650e-04],\n",
       "       [8.65022293e-01, 0.00000000e+00, 9.55997482e-01, ...,\n",
       "        4.02661255e-05, 1.46656872e-05, 1.79560205e-04],\n",
       "       [8.78095431e-01, 9.55997482e-01, 0.00000000e+00, ...,\n",
       "        1.91157109e-05, 7.84997666e-06, 9.70775902e-05],\n",
       "       ...,\n",
       "       [4.79668697e-05, 4.02661255e-05, 1.91157109e-05, ...,\n",
       "        0.00000000e+00, 8.26959134e-01, 8.14647316e-01],\n",
       "       [2.00957944e-05, 1.46656872e-05, 7.84997666e-06, ...,\n",
       "        8.26959134e-01, 0.00000000e+00, 7.44531587e-01],\n",
       "       [1.89712650e-04, 1.79560205e-04, 9.70775902e-05, ...,\n",
       "        8.14647316e-01, 7.44531587e-01, 0.00000000e+00]])"
      ]
     },
     "execution_count": 31,
     "metadata": {},
     "output_type": "execute_result"
    }
   ],
   "source": [
    "sigma = 1\n",
    "rows = len(samples)\n",
    "\n",
    "W = np.zeros((rows, rows))\n",
    "for i in range(rows):\n",
    "    for j in range(rows):\n",
    "        if (i != j):\n",
    "            W[i][j] = np.exp(-np.sum((samples[i] - samples[j])**2/(2*sigma**2)))\n",
    "\n",
    "print(\"邻接矩阵 W 为：\")\n",
    "W"
   ]
  },
  {
   "attachments": {},
   "cell_type": "markdown",
   "metadata": {},
   "source": [
    "### 3.2 计算标准化拉普拉斯矩阵\n"
   ]
  },
  {
   "cell_type": "code",
   "execution_count": 32,
   "metadata": {},
   "outputs": [
    {
     "name": "stdout",
     "output_type": "stream",
     "text": [
      "标准化拉普拉斯矩阵 L：\n"
     ]
    },
    {
     "data": {
      "text/plain": [
       "array([[ 1.00000000e+00, -2.09800762e-02, -2.12397985e-02, ...,\n",
       "        -9.94628311e-07, -4.70407683e-07, -3.93702551e-06],\n",
       "       [-2.09800762e-02,  1.00000000e+00, -2.39326914e-02, ...,\n",
       "        -8.64142566e-07, -3.55302089e-07, -3.85663154e-06],\n",
       "       [-2.12397985e-02, -2.39326914e-02,  1.00000000e+00, ...,\n",
       "        -4.09133391e-07, -1.89667371e-07, -2.07943791e-06],\n",
       "       ...,\n",
       "       [-9.94628311e-07, -8.64142566e-07, -4.09133391e-07, ...,\n",
       "         1.00000000e+00, -1.71284897e-02, -1.49591654e-02],\n",
       "       [-4.70407683e-07, -3.55302089e-07, -1.89667371e-07, ...,\n",
       "        -1.71284897e-02,  1.00000000e+00, -1.54337212e-02],\n",
       "       [-3.93702551e-06, -3.85663154e-06, -2.07943791e-06, ...,\n",
       "        -1.49591654e-02, -1.54337212e-02,  1.00000000e+00]])"
      ]
     },
     "execution_count": 32,
     "metadata": {},
     "output_type": "execute_result"
    }
   ],
   "source": [
    "# 度矩阵\n",
    "degree_matrix = np.sum(W, axis=1)\n",
    "\n",
    "L = np.diag(degree_matrix) - W\n",
    "\n",
    "# 拉普拉斯矩阵标准化，Ncut切图\n",
    "sqrt_degree_matrix = np.diag(1.0 / (degree_matrix**0.5)) # D^(-1/2)\n",
    "L = np.dot(np.dot(sqrt_degree_matrix, L), sqrt_degree_matrix) # D^(-1/2)*L*D^(-1/2)\n",
    "\n",
    "print(\"标准化拉普拉斯矩阵 L：\")\n",
    "L"
   ]
  },
  {
   "attachments": {},
   "cell_type": "markdown",
   "metadata": {},
   "source": [
    "### 3.3 特征值分解和排序\n"
   ]
  },
  {
   "cell_type": "code",
   "execution_count": 41,
   "metadata": {},
   "outputs": [],
   "source": [
    "# 特征值分解\n",
    "lam, H = np.linalg.eig(L)\n",
    "\n",
    "# 特征值排序\n",
    "t = np.argsort(lam)\n",
    "H = np.c_[H[:, t[0]], H[:, t[1]], H[:, t[2]]]\n",
    "\n",
    "# 归一化处理\n",
    "sum = np.sqrt(np.sum(H**2, axis=1, keepdims=True))\n",
    "H = H/sum"
   ]
  },
  {
   "attachments": {},
   "cell_type": "markdown",
   "metadata": {},
   "source": [
    "### 3.4 KMeans聚类"
   ]
  },
  {
   "cell_type": "code",
   "execution_count": 42,
   "metadata": {},
   "outputs": [
    {
     "data": {
      "text/html": [
       "<style>#sk-container-id-4 {color: black;background-color: white;}#sk-container-id-4 pre{padding: 0;}#sk-container-id-4 div.sk-toggleable {background-color: white;}#sk-container-id-4 label.sk-toggleable__label {cursor: pointer;display: block;width: 100%;margin-bottom: 0;padding: 0.3em;box-sizing: border-box;text-align: center;}#sk-container-id-4 label.sk-toggleable__label-arrow:before {content: \"▸\";float: left;margin-right: 0.25em;color: #696969;}#sk-container-id-4 label.sk-toggleable__label-arrow:hover:before {color: black;}#sk-container-id-4 div.sk-estimator:hover label.sk-toggleable__label-arrow:before {color: black;}#sk-container-id-4 div.sk-toggleable__content {max-height: 0;max-width: 0;overflow: hidden;text-align: left;background-color: #f0f8ff;}#sk-container-id-4 div.sk-toggleable__content pre {margin: 0.2em;color: black;border-radius: 0.25em;background-color: #f0f8ff;}#sk-container-id-4 input.sk-toggleable__control:checked~div.sk-toggleable__content {max-height: 200px;max-width: 100%;overflow: auto;}#sk-container-id-4 input.sk-toggleable__control:checked~label.sk-toggleable__label-arrow:before {content: \"▾\";}#sk-container-id-4 div.sk-estimator input.sk-toggleable__control:checked~label.sk-toggleable__label {background-color: #d4ebff;}#sk-container-id-4 div.sk-label input.sk-toggleable__control:checked~label.sk-toggleable__label {background-color: #d4ebff;}#sk-container-id-4 input.sk-hidden--visually {border: 0;clip: rect(1px 1px 1px 1px);clip: rect(1px, 1px, 1px, 1px);height: 1px;margin: -1px;overflow: hidden;padding: 0;position: absolute;width: 1px;}#sk-container-id-4 div.sk-estimator {font-family: monospace;background-color: #f0f8ff;border: 1px dotted black;border-radius: 0.25em;box-sizing: border-box;margin-bottom: 0.5em;}#sk-container-id-4 div.sk-estimator:hover {background-color: #d4ebff;}#sk-container-id-4 div.sk-parallel-item::after {content: \"\";width: 100%;border-bottom: 1px solid gray;flex-grow: 1;}#sk-container-id-4 div.sk-label:hover label.sk-toggleable__label {background-color: #d4ebff;}#sk-container-id-4 div.sk-serial::before {content: \"\";position: absolute;border-left: 1px solid gray;box-sizing: border-box;top: 0;bottom: 0;left: 50%;z-index: 0;}#sk-container-id-4 div.sk-serial {display: flex;flex-direction: column;align-items: center;background-color: white;padding-right: 0.2em;padding-left: 0.2em;position: relative;}#sk-container-id-4 div.sk-item {position: relative;z-index: 1;}#sk-container-id-4 div.sk-parallel {display: flex;align-items: stretch;justify-content: center;background-color: white;position: relative;}#sk-container-id-4 div.sk-item::before, #sk-container-id-4 div.sk-parallel-item::before {content: \"\";position: absolute;border-left: 1px solid gray;box-sizing: border-box;top: 0;bottom: 0;left: 50%;z-index: -1;}#sk-container-id-4 div.sk-parallel-item {display: flex;flex-direction: column;z-index: 1;position: relative;background-color: white;}#sk-container-id-4 div.sk-parallel-item:first-child::after {align-self: flex-end;width: 50%;}#sk-container-id-4 div.sk-parallel-item:last-child::after {align-self: flex-start;width: 50%;}#sk-container-id-4 div.sk-parallel-item:only-child::after {width: 0;}#sk-container-id-4 div.sk-dashed-wrapped {border: 1px dashed gray;margin: 0 0.4em 0.5em 0.4em;box-sizing: border-box;padding-bottom: 0.4em;background-color: white;}#sk-container-id-4 div.sk-label label {font-family: monospace;font-weight: bold;display: inline-block;line-height: 1.2em;}#sk-container-id-4 div.sk-label-container {text-align: center;}#sk-container-id-4 div.sk-container {/* jupyter's `normalize.less` sets `[hidden] { display: none; }` but bootstrap.min.css set `[hidden] { display: none !important; }` so we also need the `!important` here to be able to override the default hidden behavior on the sphinx rendered scikit-learn.org. See: https://github.com/scikit-learn/scikit-learn/issues/21755 */display: inline-block !important;position: relative;}#sk-container-id-4 div.sk-text-repr-fallback {display: none;}</style><div id=\"sk-container-id-4\" class=\"sk-top-container\"><div class=\"sk-text-repr-fallback\"><pre>KMeans(n_clusters=3)</pre><b>In a Jupyter environment, please rerun this cell to show the HTML representation or trust the notebook. <br />On GitHub, the HTML representation is unable to render, please try loading this page with nbviewer.org.</b></div><div class=\"sk-container\" hidden><div class=\"sk-item\"><div class=\"sk-estimator sk-toggleable\"><input class=\"sk-toggleable__control sk-hidden--visually\" id=\"sk-estimator-id-4\" type=\"checkbox\" checked><label for=\"sk-estimator-id-4\" class=\"sk-toggleable__label sk-toggleable__label-arrow\">KMeans</label><div class=\"sk-toggleable__content\"><pre>KMeans(n_clusters=3)</pre></div></div></div></div></div>"
      ],
      "text/plain": [
       "KMeans(n_clusters=3)"
      ]
     },
     "execution_count": 42,
     "metadata": {},
     "output_type": "execute_result"
    }
   ],
   "source": [
    "from sklearn.cluster import KMeans\n",
    "model = KMeans(n_clusters=3)\n",
    "model.fit(H)"
   ]
  },
  {
   "attachments": {},
   "cell_type": "markdown",
   "metadata": {},
   "source": [
    "### 3.5 结果分析\n",
    "**聚类结果:**"
   ]
  },
  {
   "cell_type": "code",
   "execution_count": 43,
   "metadata": {},
   "outputs": [
    {
     "data": {
      "text/plain": [
       "array([1, 1, 1, 1, 1, 1, 1, 1, 1, 1, 1, 1, 1, 1, 1, 1, 1, 1, 1, 1, 1, 1,\n",
       "       1, 1, 1, 1, 1, 1, 1, 1, 1, 1, 1, 1, 1, 1, 1, 1, 1, 1, 1, 1, 1, 1,\n",
       "       1, 1, 1, 1, 1, 1, 2, 0, 2, 0, 0, 0, 0, 0, 0, 0, 0, 0, 0, 0, 0, 0,\n",
       "       0, 0, 0, 0, 0, 0, 0, 0, 0, 0, 0, 2, 0, 0, 0, 0, 0, 0, 0, 0, 0, 0,\n",
       "       0, 0, 0, 0, 0, 0, 0, 0, 0, 0, 0, 0, 2, 0, 2, 2, 2, 2, 0, 2, 2, 2,\n",
       "       2, 2, 2, 0, 2, 2, 2, 2, 2, 0, 2, 0, 2, 0, 2, 2, 0, 0, 2, 2, 2, 2,\n",
       "       2, 0, 2, 2, 2, 2, 0, 2, 2, 2, 0, 2, 2, 2, 0, 2, 2, 0])"
      ]
     },
     "execution_count": 43,
     "metadata": {},
     "output_type": "execute_result"
    }
   ],
   "source": [
    "labels = model.labels_\n",
    "labels"
   ]
  },
  {
   "attachments": {},
   "cell_type": "markdown",
   "metadata": {},
   "source": [
    "**错误率：**"
   ]
  },
  {
   "cell_type": "code",
   "execution_count": 44,
   "metadata": {},
   "outputs": [
    {
     "name": "stdout",
     "output_type": "stream",
     "text": [
      "谱聚类错误率： 0.106667\n"
     ]
    }
   ],
   "source": [
    "true_label = 0\n",
    "c1 = collections.Counter(labels[0:50])\n",
    "true_label += c1.most_common(1)[0][1]\n",
    "\n",
    "c2 = collections.Counter(labels[50:100])\n",
    "true_label += c2.most_common(1)[0][1]\n",
    "\n",
    "c3 = collections.Counter(labels[100:150])\n",
    "true_label += c3.most_common(1)[0][1]\n",
    "\n",
    "print(\"谱聚类错误率： %f\" %(1 - true_label / len(labels)))"
   ]
  }
 ],
 "metadata": {
  "kernelspec": {
   "display_name": "Python 3",
   "language": "python",
   "name": "python3"
  },
  "language_info": {
   "codemirror_mode": {
    "name": "ipython",
    "version": 3
   },
   "file_extension": ".py",
   "mimetype": "text/x-python",
   "name": "python",
   "nbconvert_exporter": "python",
   "pygments_lexer": "ipython3",
   "version": "3.8.5"
  },
  "orig_nbformat": 4,
  "vscode": {
   "interpreter": {
    "hash": "b7da3fec8ce39acfa2ce99c60f354bbad9f7a36066cf9057dd5f2c70267b2d8a"
   }
  }
 },
 "nbformat": 4,
 "nbformat_minor": 2
}
