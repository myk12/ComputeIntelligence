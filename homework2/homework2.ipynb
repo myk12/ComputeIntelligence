{
 "cells": [
  {
   "attachments": {},
   "cell_type": "markdown",
   "metadata": {},
   "source": [
    "# 计算智能练习2"
   ]
  },
  {
   "attachments": {},
   "cell_type": "markdown",
   "metadata": {},
   "source": [
    "**运行环境：**"
   ]
  },
  {
   "cell_type": "code",
   "execution_count": 114,
   "metadata": {},
   "outputs": [],
   "source": [
    "import numpy as np\n",
    "import os\n",
    "import matplotlib.pyplot as plt\n",
    "from struct import unpack\n",
    "from PIL import Image"
   ]
  },
  {
   "attachments": {},
   "cell_type": "markdown",
   "metadata": {},
   "source": [
    "## 1. 数据\n",
    "\n",
    "文件夹orl中包含40个人的人脸图像，每个人有10幅图像，共400幅图像。\n",
    "\n",
    "### 1.1 数据读取"
   ]
  },
  {
   "cell_type": "code",
   "execution_count": 125,
   "metadata": {},
   "outputs": [
    {
     "name": "stdout",
     "output_type": "stream",
     "text": [
      "样本个数：400\n",
      "样本示例：\n",
      " [[ 48  49  45 ...  47  46  46]\n",
      " [ 60  60  62 ...  32  34  34]\n",
      " [ 39  44  53 ...  29  26  29]\n",
      " ...\n",
      " [125 119 124 ...  36  39  40]\n",
      " [119 120 120 ...  89  94  85]\n",
      " [125 124 124 ...  36  35  34]]\n",
      "数据集大小：  (400, 10304)\n"
     ]
    }
   ],
   "source": [
    "img_data_path = \"./data-ORL/ORL/\"\n",
    "img_names = os.listdir(img_data_path)\n",
    "img_names.remove(\"Thumbs.db\")\n",
    "imgs = [img_data_path + img_name for img_name in img_names]\n",
    "#print(imgs)\n",
    "\n",
    "img_array_list = []\n",
    "for img in imgs:\n",
    "    im = Image.open(img)\n",
    "    img_array = np.array(im).flatten()\n",
    "    img_array_list.append(img_array)\n",
    "\n",
    "#print(img_array_list)\n",
    "\n",
    "img_dataset = np.asarray(img_array_list)\n",
    "\n",
    "print(\"样本个数：%d\" %len(img_dataset))\n",
    "print(\"样本示例：\\n\", img_dataset)\n",
    "print(\"数据集大小： \", img_dataset.shape)"
   ]
  },
  {
   "attachments": {},
   "cell_type": "markdown",
   "metadata": {},
   "source": [
    "### 1.2 数据切分\n",
    "\n",
    "按照要求将数据集划分为**训练集**和**测试集**，实验要求每个人的前5个人脸为训练集，后5个人脸为测试集。"
   ]
  },
  {
   "cell_type": "code",
   "execution_count": 156,
   "metadata": {
    "tags": []
   },
   "outputs": [
    {
     "name": "stdout",
     "output_type": "stream",
     "text": [
      "训练集 train_X 大小:  (200, 10304)\n",
      "测试集 test_X 大小:  (200, 10304)\n",
      "labels : (200, 1)\n"
     ]
    }
   ],
   "source": [
    "step = 10\n",
    "half_step = step//2\n",
    "\n",
    "train_X = img_dataset[0 : half_step, :]\n",
    "test_X  = img_dataset[half_step : step, :]\n",
    "labels  = np.zeros((5,1), dtype=np.int)\n",
    "\n",
    "l = 1\n",
    "for i in range(step, len(img_dataset), step):\n",
    "    #print(\"range(%d, %d)\" %(i, i+step))\n",
    "    train_X = np.concatenate([train_X, img_dataset[i : i+half_step, :]], axis=0)\n",
    "    #print(\"range(%d, %d)\" %(i, i+i+half_step))\n",
    "    test_X  = np.concatenate([test_X, img_dataset[i+half_step : i+step, :]], axis=0)\n",
    "    #print(\"range(%d, %d)\" %(i + half_step, i+step))\n",
    "    #生成测试集标签\n",
    "    labels = np.concatenate([labels, l*np.ones((5,1), dtype=np.int)], axis=0)\n",
    "    l += 1\n",
    "\n",
    "print(\"训练集 train_X 大小: \", train_X.shape)\n",
    "print(\"测试集 test_X 大小: \", test_X.shape)\n",
    "print(\"labels :\", labels.shape)"
   ]
  },
  {
   "attachments": {},
   "cell_type": "markdown",
   "metadata": {},
   "source": [
    "## 2. 最小距离分类器\n",
    "\n"
   ]
  },
  {
   "attachments": {},
   "cell_type": "markdown",
   "metadata": {},
   "source": [
    "### 2.1 计算特征中心\n",
    "\n",
    "这里每一维度的量纲相同，因此无需进行归一化"
   ]
  },
  {
   "cell_type": "code",
   "execution_count": 137,
   "metadata": {},
   "outputs": [
    {
     "name": "stdout",
     "output_type": "stream",
     "text": [
      "[[ 54.8  56.4  55.  ...  36.8  30.6  34.4]\n",
      " [ 34.2  35.2  35.6 ...  50.6  51.   51.4]\n",
      " [102.  103.2 105.2 ...  43.6  42.2  42.4]\n",
      " ...\n",
      " [106.2 109.4 109.  ...  66.6  63.6  62. ]\n",
      " [ 78.6  80.8  79.4 ... 124.2 121.8 122. ]\n",
      " [127.  125.  125.8 ...  67.4  68.8  68. ]]\n",
      "(40, 10304)\n"
     ]
    }
   ],
   "source": [
    "mu_list = []\n",
    "for i in range(0, len(train_X), 5):\n",
    "    #print(\"range(%d, %d)\" %(i, i+5))\n",
    "    smaple = train_X[i:i+5, :]\n",
    "    mu = np.mean(smaple, axis=0)\n",
    "    mu_list.append(mu)\n",
    "\n",
    "#各类中心\n",
    "mu_centers = np.asarray(mu_list)\n",
    "print(mu_centers)\n",
    "print(mu_centers.shape)"
   ]
  },
  {
   "attachments": {},
   "cell_type": "markdown",
   "metadata": {},
   "source": [
    "### 2.2 最小距离分类\n",
    "\n",
    "计算每个样本到各个特征中心的欧氏距离"
   ]
  },
  {
   "cell_type": "code",
   "execution_count": 165,
   "metadata": {},
   "outputs": [
    {
     "name": "stdout",
     "output_type": "stream",
     "text": [
      "30\n",
      "分类错误率： 0.150000\n"
     ]
    }
   ],
   "source": [
    "labels_ = np.zeros((200, 1), dtype=np.int)\n",
    "for i in range(len(test_X)):\n",
    "    distances = np.sum((mu_centers - test_X[i,:])**2, axis=1)\n",
    "    labels_[i] = np.argmin(distances)\n",
    "\n",
    "#print(labels_)\n",
    "#print(labels - labels_)\n",
    "ans = np.count_nonzero(labels - labels_)\n",
    "print(ans)\n",
    "print(\"分类错误率： %f\" %(ans/len(labels)))"
   ]
  }
 ],
 "metadata": {
  "kernelspec": {
   "display_name": "Python 3",
   "language": "python",
   "name": "python3"
  },
  "language_info": {
   "codemirror_mode": {
    "name": "ipython",
    "version": 3
   },
   "file_extension": ".py",
   "mimetype": "text/x-python",
   "name": "python",
   "nbconvert_exporter": "python",
   "pygments_lexer": "ipython3",
   "version": "3.8.5"
  },
  "orig_nbformat": 4,
  "vscode": {
   "interpreter": {
    "hash": "b7da3fec8ce39acfa2ce99c60f354bbad9f7a36066cf9057dd5f2c70267b2d8a"
   }
  }
 },
 "nbformat": 4,
 "nbformat_minor": 2
}
